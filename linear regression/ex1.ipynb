{
 "cells": [
  {
   "cell_type": "code",
   "execution_count": 1,
   "metadata": {},
   "outputs": [],
   "source": [
    "import pandas \n",
    "import numpy \n",
    "from matplotlib import pyplot"
   ]
  },
  {
   "cell_type": "code",
   "execution_count": 2,
   "metadata": {},
   "outputs": [],
   "source": [
    "data = pandas.read_csv('sample_data.txt', sep=',', names=['X', 'y']) "
   ]
  },
  {
   "cell_type": "code",
   "execution_count": 3,
   "metadata": {},
   "outputs": [],
   "source": [
    "X = numpy.array(data['X'])\n",
    "y = numpy.array(data['y'])"
   ]
  },
  {
   "cell_type": "code",
   "execution_count": 4,
   "metadata": {},
   "outputs": [
    {
     "data": {
      "text/plain": [
       "<matplotlib.collections.PathCollection at 0x7efdbb22f310>"
      ]
     },
     "execution_count": 4,
     "metadata": {},
     "output_type": "execute_result"
    },
    {
     "data": {
      "image/png": "[encoded data removed]",
      "text/plain": [
       "<Figure size 432x288 with 1 Axes>"
      ]
     },
     "metadata": {
      "needs_background": "light"
     },
     "output_type": "display_data"
    }
   ],
   "source": [
    "pyplot.scatter(X,y, c='blue') "
   ]
  },
  {
   "cell_type": "code",
   "execution_count": null,
   "metadata": {},
   "outputs": [],
   "source": []
  },
  {
   "cell_type": "code",
   "execution_count": 5,
   "metadata": {},
   "outputs": [],
   "source": [
    "def cost(X, y, b0, b1):\n",
    "    f = lambda x : b0 + b1 * x \n",
    "    pred = f(X)\n",
    "    temp = pred - y \n",
    "    error = numpy.matmul(temp, (temp.T))\n",
    "    return error "
   ]
  },
  {
   "cell_type": "code",
   "execution_count": 6,
   "metadata": {},
   "outputs": [
    {
     "name": "stdout",
     "output_type": "stream",
     "text": [
      "0\n"
     ]
    }
   ],
   "source": [
    "e = cost(X, y, 0, 5)\n",
    "print(e)  "
   ]
  },
  {
   "cell_type": "code",
   "execution_count": 32,
   "metadata": {},
   "outputs": [],
   "source": [
    "def gradient_descent_algorithm(X, y, b0, b1, alpha, iteration):\n",
    "    for i in range(iteration):\n",
    "        # print(\"Itration no. \" + str(i))\n",
    "        error = cost(X, y, b0, b1) \n",
    "        # print(f\"error {error}\")\n",
    "        f = lambda x : b0 + b1 * x\n",
    "        diff = f(X) - y \n",
    "        # print(f\"diff {diff}\")\n",
    "        square = diff * diff\n",
    "        # print(f\"square  {square}\")\n",
    "        # print(f\"shape : {X.shape[0]}\")\n",
    "        # print(f\"sum {square.sum()}\")\n",
    "        b0 = b0 - (alpha / X.shape[0]) * (diff.sum())\n",
    "        # print(X.T.shape)\n",
    "        # print(f\"sq sh : {square.shape}\")\n",
    "        # print(numpy.matmul(square, X ))\n",
    "        b1 = b1 - (alpha / X.shape[0]) * (numpy.matmul(diff, X.T))\n",
    "        # print(f\"b0 {b0}\")\n",
    "        # print(f\"b1 {b1}\")\n",
    "    \n",
    "    return (b0, b1)"
   ]
  },
  {
   "cell_type": "code",
   "execution_count": 50,
   "metadata": {},
   "outputs": [],
   "source": [
    "theta = gradient_descent_algorithm(X, y, 0, 4, .0001, 10000)   "
   ]
  },
  {
   "cell_type": "code",
   "execution_count": 51,
   "metadata": {},
   "outputs": [
    {
     "data": {
      "image/png": "[encoded data removed]",
      "text/plain": [
       "<Figure size 432x288 with 1 Axes>"
      ]
     },
     "metadata": {
      "needs_background": "light"
     },
     "output_type": "display_data"
    }
   ],
   "source": [
    "pyplot.figure()\n",
    "pyplot.scatter(X, y)\n",
    "X_plot = numpy.linspace(5, 23, 100)\n",
    "pyplot.plot(X_plot, theta[0] + X_plot * theta[1],\n",
    "         color=\"red\", linewidth=2)\n",
    "pyplot.xlabel(\"Population of City in 10,000s\")\n",
    "pyplot.ylabel(\"Profit in $10,000s\")\n",
    "pyplot.xlim(5, 23)\n",
    "pyplot.show()"
   ]
  },
  {
   "cell_type": "code",
   "execution_count": null,
   "metadata": {},
   "outputs": [],
   "source": []
  }
 ],
 "metadata": {
  "interpreter": {
   "hash": "36d2de16a5968ef1b382937649187d30aef77fead9b3537f59902f2067a0836c"
  },
  "kernelspec": {
   "display_name": "Python 3.7.11 64-bit ('base': conda)",
   "language": "python",
   "name": "python3"
  },
  "language_info": {
   "codemirror_mode": {
    "name": "ipython",
    "version": 3
   },
   "file_extension": ".py",
   "mimetype": "text/x-python",
   "name": "python",
   "nbconvert_exporter": "python",
   "pygments_lexer": "ipython3",
   "version": "3.7.11"
  },
  "orig_nbformat": 4
 },
 "nbformat": 4,
 "nbformat_minor": 2
}
